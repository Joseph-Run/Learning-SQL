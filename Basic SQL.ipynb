{
 "cells": [
  {
   "cell_type": "markdown",
   "metadata": {},
   "source": [
    "# Just my journey into Learning SQL\n",
    "\n",
    "There are some major advantages to using traditional relational databases, which we interact with using SQL. The five most apparent are:\n",
    "\n",
    "- SQL is easy to understand.\n",
    "- Traditional databases allow us to access data directly.\n",
    "- Traditional databases allow us to audit and replicate our data.\n",
    "- SQL is a great tool for analyzing multiple tables at once.\n",
    "- SQL allows you to analyze more complex questions than dashboard tools like Google Analytics.\n",
    "\n",
    "Why Businesses Like Databases\n",
    "- Data integrity is ensured - only the data you want entered is entered, and only certain users are able to enter data into the database.\n",
    "- Data can be accessed quickly - SQL allows you to obtain results very quickly from the data stored in a database. Code can be optimized to quickly pull results.\n",
    "- Data is easily shared - multiple individuals can access data stored in a database, and the data is the same for all users allowing for consistent results for anyone with access to your database.\n",
    "\n",
    "A few key points about data stored in SQL databases:\n",
    "\n",
    "- Data in databases is stored in tables that can be thought of just like Excel spreadsheets: For the most part, you can think of a database as a bunch of Excel spreadsheets. Each spreadsheet has rows and columns. Where each row holds data on a transaction, a person, a company, etc., while each column holds data pertaining to a particular aspect of one of the rows you care about like a name, location, a unique id, etc.\n",
    "\n",
    "- All the data in the same column must match in terms of data type: An entire column is considered quantitative, discrete, or as some sort of string. This means if you have one row with a string in a particular column, the entire column might change to a text data type. This can be very bad if you want to do math with this column!\n",
    "\n",
    "- Consistent column types are one of the main reasons working with databases is fast: Often databases hold a LOT of data. So, knowing that the columns are all of the same type of data means that obtaining data from a database can still be fast.\n",
    "\n"
   ]
  },
  {
   "cell_type": "markdown",
   "metadata": {},
   "source": [
    "**Types of Databases**\n",
    "\n",
    "**SQL Databases**\n",
    "\n",
    "There are many different types of SQL databases designed for different purposes. In this course we will use [Postgres](https://www.postgresql.org/) within the classroom, which is a popular open-source database with a very complete library of analytical functions.\n",
    "\n",
    "Some of the most popular databases include:\n",
    "\n",
    "- MySQL\n",
    "- Access\n",
    "- Oracle\n",
    "- Microsoft SQL Server\n",
    "- Postgres\n",
    "\n",
    "You can also write SQL within other programming frameworks like Python, Scala, and HaDoop."
   ]
  },
  {
   "cell_type": "markdown",
   "metadata": {},
   "source": [
    "#### Small Differences\n",
    "\n",
    "Each of these SQL databases may have subtle differences in syntax and available functions -- for example, MySQL doesn’t have some of the functions for modifying dates as Postgres. Most of what you see with Postgres will be directly applicable to using SQL in other frameworks and database environments. For the differences that do exist, you should check the documentation. Most SQL environments have great documentation online that you can easily access with a quick Google search.\n",
    "\n",
    "The article [here](https://www.digitalocean.com/community/tutorials/sqlite-vs-mysql-vs-postgresql-a-comparison-of-relational-database-management-systems) compares three of the most common types of SQL: SQLite, PostgreSQL, and MySQL.\n",
    "\n",
    "You will use PostgreSQL for the lessons in this course, but you are not required to download it to your machine. We provide SQL workspaces in the classroom throughout the lessons. You may download PostgreSQL [here](https://www.postgresql.org/) if you'd like though."
   ]
  },
  {
   "cell_type": "markdown",
   "metadata": {},
   "source": [
    "The key to SQL is understanding statements. A few statements include:\n",
    "\n",
    "- **CREATE TABLE** is a statement that creates a new table in a database.\n",
    "- **DROP TABLE** is a statement that removes a table in a database.\n",
    "- **SELECT** allows you to read data and display it. This is called a query.\n",
    "\n",
    "The SELECT statement is the common statement used by analysts, and you will be learning all about them throughout this course!"
   ]
  },
  {
   "cell_type": "markdown",
   "metadata": {},
   "source": [
    "Here you were introduced to the SQL command that will be used in every query you write: SELECT ... FROM ....\n",
    "\n",
    "1. **SELECT** indicates which column(s) you want to be given the data for.\n",
    "\n",
    "2. **FROM** specifies from which table(s) you want to select the columns. Notice the columns need to exist in this table.\n",
    "\n",
    "If you want to be provided with the data from all columns in the table, you use \"*\", like so:\n",
    "\n",
    "- SELECT * FROM orders\n",
    "\n",
    "Note that using SELECT does not create a new table with these columns in the database, it just provides the data to you as the results, or output, of this command.\n",
    "\n",
    "You will use this SQL SELECT statement in every query in this course, but you will be learning a few additional statements and operators that can be used along with them to ask more advanced questions of your data."
   ]
  },
  {
   "cell_type": "markdown",
   "metadata": {},
   "source": [
    "**Your First SQL Statement**\n",
    "\n",
    "To get started, try using the right panel in the SQL workspace above to type in and evaluate the query (shown again below) that you saw in the previous video. You can begin typing right next to the number 1.\n",
    "\n",
    "    SELECT * \n",
    "    FROM orders;\n",
    "\n",
    "\n",
    "Once you have typed in your SQL code, you can click on the blue EVALUATE button to run the query. This may take a moment. An alternative to clicking EVALUATE is to use control + Enter to execute your query. If you get an error, it will sometimes cover the EVALUATE button, so this second option is very nice!\n",
    "\n",
    "You will notice that your instructor Derek uses \"demo\" tables, like `FROM demo.orders` (and he will continue to do this in future lessons), but you should write your queries using the table names exactly as shown in the Schema on the left, with \"demo\" removed, like `FROM orders`.\n",
    "\n",
    "**SELECT and FROM in Every SQL Query**  \n",
    "Every query will have at least a SELECT and FROM statement. The SELECT statement is where you put the columns for which you would like to show the data. The FROM statement is where you put the tables from which you would like to pull data.\n",
    "\n",
    "**Your Turn**   \n",
    "Try writing your own query to select only the `id`, `account_id`, and `occurred_at` columns for all orders in the **orders** table.\n",
    "\n",
    "**Checking the Output of your Query**   \n",
    "If you see an error message after executing your query, no problem! Programmers get errors all the time! Mistakes are opportunities to learn. :)\n",
    "\n",
    "Just take a look at what the error says, check the syntax of your query compared to your notes or what was shown in the lesson video or text, make revisions, and try it again. See what you can learn from your mistake, and make a note about it.\n",
    "\n",
    "If you see a message saying \"Success!\" this means you had no syntax errors and your query executed well. It does not necessarily mean that you got your desired results though! It is still up to you to examine your output and see if what you got was what you wanted.\n",
    "\n",
    "You can also check on the next page after each quiz, to see how your query compares to the solution that we provide. We highly recommend that you try writing your query first, before looking at any solution. :)"
   ]
  },
  {
   "cell_type": "markdown",
   "metadata": {},
   "source": [
    "### Formatting Your Queries    \n",
    "**Using Upper and Lower Case in SQL**   \n",
    "SQL queries can be run successfully whether characters are written in upper- or lower-case. In other words, SQL queries are not case-sensitive. The following query:\n",
    "\n",
    "    SELECT account_id\n",
    "    FROM orders\n",
    "\n",
    "is the same as: \n",
    "\n",
    "    select account_id\n",
    "    from orders\n",
    "    \n",
    "which is also the same as:\n",
    "\n",
    "    SeLeCt AcCoUnt_id\n",
    "    FrOm oRdErS\n",
    "\n",
    "However, you may have noticed that we have been capitalizing **SELECT** and **FROM**, while we leave table and column names in lower case. This is because even though SQL is case-insensitive, it is common and best practice to capitalize all SQL commands, like SELECT and FROM, and keep everything else in your query lower case.\n",
    "\n",
    "Capitalizing command words makes queries easier to read, which will matter more as you write more complex queries. For now, it is just a good habit to start getting into, to make your SQL queries more readable.\n",
    "\n",
    "One other note: The text data stored in SQL tables can be either upper or lower case, and SQL is case-sensitive in regard to this text data.\n",
    "\n",
    "**Avoid Spaces in Table and Variable Names**    \n",
    "It is common to use underscores and avoid spaces in column names. It is a bit annoying to work with spaces in SQL. In Postgres if you have spaces in column or table names, you need to refer to these columns/tables with double quotes around them (Ex: FROM \"Table Name\" as opposed to FROM table_name). In other environments, you might see this as square brackets instead (Ex: FROM [Table Name]).\n",
    "\n",
    "**Use White Space in Queries**\n",
    "SQL queries ignore spaces, so you can add as many spaces and blank lines between code as you want, and the queries are the same. This query\n",
    "\n",
    "    SELECT account_id FROM orders\n",
    "\n",
    "is equivalent to this query:\n",
    "\n",
    "    SELECT account_id\n",
    "    FROM orders\n",
    "\n",
    "and this query (but please don't ever write queries like this):\n",
    "\n",
    "    SELECT              account_id\n",
    "\n",
    "    FROM               orders\n",
    "\n",
    "**Semicolons**  \n",
    "Depending on your SQL environment, your query may need a semicolon at the end to execute. Other environments are more flexible in terms of this being a \"requirement.\" It is considered best practice to put a semicolon at the end of each statement, which also allows you to run multiple queries at once if your environment allows this.\n",
    "\n",
    "*Best practice:*\n",
    "\n",
    "    SELECT account_id\n",
    "    FROM orders;\n",
    "\n",
    "Since our environment here doesn't require it, you will see solutions written without the semicolon:\n",
    "\n",
    "    SELECT account_id\n",
    "    FROM orders"
   ]
  },
  {
   "cell_type": "markdown",
   "metadata": {},
   "source": [
    "### LIMIT\n",
    "\n",
    "We have already seen the SELECT (to choose columns) and FROM (to choose tables) statements. The LIMIT statement is useful when you want to see just the first few rows of a table. This can be much faster for loading than if we load the entire dataset.\n",
    "\n",
    "The LIMIT command is always the very last part of a query. An example of showing just the first 10 rows of the orders table with all of the columns might look like the following:\n",
    "\n",
    "    SELECT *\n",
    "    FROM orders\n",
    "    LIMIT 10;\n",
    "    \n",
    "We could also change the number of rows by changing the 10 to any other number of rows."
   ]
  },
  {
   "cell_type": "markdown",
   "metadata": {},
   "source": [
    "### ORDER BY\n",
    "\n",
    "The **ORDER BY** statement allows us to sort our results using the data in any column. If you are familiar with Excel or Google Sheets, using **ORDER BY** is similar to sorting a sheet using a column. A key difference, however, is that **using ORDER BY in a SQL query only has temporary effects, for the results of that query, unlike sorting a sheet by column in Excel or Sheets.**\n",
    "\n",
    "In other words, when you use ORDER BY in a SQL query, your output will be sorted that way, but then the next query you run will encounter the unsorted data again. It's important to keep in mind that this is different than using common spreadsheet software, where sorting the spreadsheet by column actually alters the data in that sheet until you undo or change that sorting. This highlights the meaning and function of a SQL \"query.\"\n",
    "\n",
    "The **ORDER BY** statement always comes in a query after the **SELECT** and **FROM** statements, but before the LIMIT statement. If you are using the LIMIT statement, it will always appear last. As you learn additional commands, the order of these statements will matter more.\n",
    "\n",
    "**Pro Tip**     \n",
    "Remember `DESC` can be added after the column in your **ORDER BY** statement to sort in descending order, as the default is to sort in ascending order."
   ]
  }
 ],
 "metadata": {
  "kernelspec": {
   "display_name": "Python 3.8.0 64-bit",
   "language": "python",
   "name": "python3"
  },
  "language_info": {
   "name": "python",
   "version": "3.8.0"
  },
  "orig_nbformat": 4,
  "vscode": {
   "interpreter": {
    "hash": "64fe13408e820fc9cab9517bb7781f7abb747092ac9539484d704b83709bc6b6"
   }
  }
 },
 "nbformat": 4,
 "nbformat_minor": 2
}
